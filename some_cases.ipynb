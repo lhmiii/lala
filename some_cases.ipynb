{
 "cells": [
  {
   "cell_type": "code",
   "execution_count": 8,
   "metadata": {},
   "outputs": [
    {
     "name": "stdout",
     "output_type": "stream",
     "text": [
      "输入数字1：18\n",
      "输入数字2：6\n",
      "6 is the maximum common divisor\n",
      "18 is the least common multiple\n"
     ]
    }
   ],
   "source": [
    "#求最大公约数和最小公倍数问题\n",
    "a=int(input('输入数字1：'))\n",
    "b=int(input('输入数字2：'))\n",
    "s=a*b\n",
    "while a%b!=0:\n",
    "    a,b=b,(a%b)\n",
    "    print(a)\n",
    "    print(b)\n",
    "else:\n",
    "    print(b,'is the maximum common divisor')\n",
    "    print(s//b,'is the least common multiple')"
   ]
  },
  {
   "cell_type": "code",
   "execution_count": 10,
   "metadata": {},
   "outputs": [
    {
     "name": "stdout",
     "output_type": "stream",
     "text": [
      "在1000000次实验中：\n",
      "若不更改门，获胜概率为33.4\n",
      "若更改门，获胜概率为66.6)\n"
     ]
    }
   ],
   "source": [
    "#羊车门问题\n",
    "import random as r \n",
    "total=1000000\n",
    "win1=0\n",
    "win2=0\n",
    "for i in range(total):\n",
    "    man=r.randint(1,3)\n",
    "    car=r.randint(1,3)\n",
    "    if man==car:\n",
    "        win1+=1\n",
    "    else:\n",
    "        win2+=1\n",
    "        \n",
    "print('在{}次实验中：'.format(total))\n",
    "print('若不更改门，获胜概率为{:.3}'.format((win1/total)*100))\n",
    "print('若更改门，获胜概率为{:.3})'.format((win2/total)*100))\n"
   ]
  },
  {
   "cell_type": "code",
   "execution_count": null,
   "metadata": {},
   "outputs": [
    {
     "name": "stdout",
     "output_type": "stream",
     "text": [
      "请输入一个年份：1982\n",
      "1982 不是闰年\n",
      "请输入一个年份：2000\n",
      "2000 是闰年\n"
     ]
    }
   ],
   "source": [
    "#判断是否为闰年\n",
    "while True:\n",
    "        try:\n",
    "            num=eval(input(\"请输入一个年份：\"))\n",
    "        except:\n",
    "            print('输入错误年份')\n",
    "            continue\n",
    "        if (num %4==0 and num%100 !=0) or num %400==0:\n",
    "            print(num,\"是闰年\")\n",
    "        else:\n",
    "            print(num,\"不是闰年\")"
   ]
  },
  {
   "cell_type": "code",
   "execution_count": null,
   "metadata": {},
   "outputs": [],
   "source": []
  },
  {
   "cell_type": "code",
   "execution_count": null,
   "metadata": {},
   "outputs": [],
   "source": []
  }
 ],
 "metadata": {
  "kernelspec": {
   "display_name": "Python 3",
   "language": "python",
   "name": "python3"
  },
  "language_info": {
   "codemirror_mode": {
    "name": "ipython",
    "version": 3
   },
   "file_extension": ".py",
   "mimetype": "text/x-python",
   "name": "python",
   "nbconvert_exporter": "python",
   "pygments_lexer": "ipython3",
   "version": "3.6.5"
  }
 },
 "nbformat": 4,
 "nbformat_minor": 2
}
