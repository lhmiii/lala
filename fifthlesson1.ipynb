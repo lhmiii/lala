{
 "cells": [
  {
   "cell_type": "code",
   "execution_count": 1,
   "metadata": {},
   "outputs": [
    {
     "name": "stdout",
     "output_type": "stream",
     "text": [
      "[0, 1, 2, 3, 4, 5, 6, 7, 8, 9]\n",
      "[0, 1, 4, 9, 16, 25, 36, 49, 64, 81]\n"
     ]
    }
   ],
   "source": [
    "a=list(range(0,10))\n",
    "b=list()\n",
    "for item in a:\n",
    "    b.append(item*item)\n",
    "print(a)\n",
    "print(b)"
   ]
  },
  {
   "cell_type": "code",
   "execution_count": 4,
   "metadata": {},
   "outputs": [
    {
     "name": "stdout",
     "output_type": "stream",
     "text": [
      "[0, 1, 4, 9, 16, 25, 36, 49, 64, 81]\n"
     ]
    }
   ],
   "source": [
    "b=[item*item for item in range(0,10)]\n",
    "print(b)"
   ]
  },
  {
   "cell_type": "code",
   "execution_count": 5,
   "metadata": {},
   "outputs": [
    {
     "name": "stdout",
     "output_type": "stream",
     "text": [
      "[0, 3, 6, 9, 12, 15, 18, 21, 24, 27, 30, 33, 36, 39, 42, 45, 48, 51, 54, 57, 60, 63, 66, 69, 72, 75, 78, 81, 84, 87, 90, 93, 96, 99]\n"
     ]
    }
   ],
   "source": [
    "a=[item for item in range(0,100) if item%3==0]\n",
    "print(a)"
   ]
  },
  {
   "cell_type": "code",
   "execution_count": 7,
   "metadata": {},
   "outputs": [
    {
     "name": "stdout",
     "output_type": "stream",
     "text": [
      "[(0, 0), (0, 1), (0, 2), (0, 3), (0, 4), (0, 5), (0, 6), (0, 7), (0, 8), (0, 9), (1, 0), (1, 1), (1, 2), (1, 3), (1, 4), (1, 5), (1, 6), (1, 7), (1, 8), (1, 9), (2, 0), (2, 1), (2, 2), (2, 3), (2, 4), (2, 5), (2, 6), (2, 7), (2, 8), (2, 9), (3, 0), (3, 1), (3, 2), (3, 3), (3, 4), (3, 5), (3, 6), (3, 7), (3, 8), (3, 9), (4, 0), (4, 1), (4, 2), (4, 3), (4, 4), (4, 5), (4, 6), (4, 7), (4, 8), (4, 9), (5, 0), (5, 1), (5, 2), (5, 3), (5, 4), (5, 5), (5, 6), (5, 7), (5, 8), (5, 9), (6, 0), (6, 1), (6, 2), (6, 3), (6, 4), (6, 5), (6, 6), (6, 7), (6, 8), (6, 9), (7, 0), (7, 1), (7, 2), (7, 3), (7, 4), (7, 5), (7, 6), (7, 7), (7, 8), (7, 9), (8, 0), (8, 1), (8, 2), (8, 3), (8, 4), (8, 5), (8, 6), (8, 7), (8, 8), (8, 9), (9, 0), (9, 1), (9, 2), (9, 3), (9, 4), (9, 5), (9, 6), (9, 7), (9, 8), (9, 9)]\n"
     ]
    }
   ],
   "source": [
    "coordinates=[]\n",
    "for x in range(0,10):\n",
    "    for y in range(0,10):\n",
    "        coordinates.append((x,y))\n",
    "print(coordinates)"
   ]
  },
  {
   "cell_type": "code",
   "execution_count": 8,
   "metadata": {},
   "outputs": [
    {
     "name": "stdout",
     "output_type": "stream",
     "text": [
      "[(0, 0), (0, 1), (0, 2), (0, 3), (0, 4), (0, 5), (0, 6), (0, 7), (0, 8), (0, 9), (1, 0), (1, 1), (1, 2), (1, 3), (1, 4), (1, 5), (1, 6), (1, 7), (1, 8), (1, 9), (2, 0), (2, 1), (2, 2), (2, 3), (2, 4), (2, 5), (2, 6), (2, 7), (2, 8), (2, 9), (3, 0), (3, 1), (3, 2), (3, 3), (3, 4), (3, 5), (3, 6), (3, 7), (3, 8), (3, 9), (4, 0), (4, 1), (4, 2), (4, 3), (4, 4), (4, 5), (4, 6), (4, 7), (4, 8), (4, 9), (5, 0), (5, 1), (5, 2), (5, 3), (5, 4), (5, 5), (5, 6), (5, 7), (5, 8), (5, 9), (6, 0), (6, 1), (6, 2), (6, 3), (6, 4), (6, 5), (6, 6), (6, 7), (6, 8), (6, 9), (7, 0), (7, 1), (7, 2), (7, 3), (7, 4), (7, 5), (7, 6), (7, 7), (7, 8), (7, 9), (8, 0), (8, 1), (8, 2), (8, 3), (8, 4), (8, 5), (8, 6), (8, 7), (8, 8), (8, 9), (9, 0), (9, 1), (9, 2), (9, 3), (9, 4), (9, 5), (9, 6), (9, 7), (9, 8), (9, 9)]\n"
     ]
    }
   ],
   "source": [
    "coordinates=[(x,y) for x in range(0,10) for y in range(0,10)]\n",
    "print(coordinates)"
   ]
  },
  {
   "cell_type": "code",
   "execution_count": 11,
   "metadata": {},
   "outputs": [
    {
     "name": "stdout",
     "output_type": "stream",
     "text": [
      "['chris+cuzy', 'amy+alice', 'bob+bernice']\n"
     ]
    }
   ],
   "source": [
    "girls=['alice','bernice','cuzy']\n",
    "boys=['chris','amy','bob']\n",
    "result=[boy+'+'+girl for boy in boys for girl in girls if boy[0]==girl[0]]\n",
    "print(result)"
   ]
  },
  {
   "cell_type": "code",
   "execution_count": 12,
   "metadata": {},
   "outputs": [
    {
     "name": "stdout",
     "output_type": "stream",
     "text": [
      "{0: 0, 1: 1, 2: 4, 3: 9, 4: 16, 5: 25, 6: 36, 7: 49, 8: 64, 9: 81}\n"
     ]
    }
   ],
   "source": [
    "squares={i:i**2 for i in range(0,10)}\n",
    "print(squares)"
   ]
  },
  {
   "cell_type": "code",
   "execution_count": 15,
   "metadata": {},
   "outputs": [
    {
     "data": {
      "text/plain": [
       "True"
      ]
     },
     "execution_count": 15,
     "metadata": {},
     "output_type": "execute_result"
    }
   ],
   "source": [
    "a=[1,2,3]\n",
    "b=a\n",
    "b is a"
   ]
  },
  {
   "cell_type": "code",
   "execution_count": 16,
   "metadata": {},
   "outputs": [
    {
     "data": {
      "text/plain": [
       "[1, 2, 3]"
      ]
     },
     "execution_count": 16,
     "metadata": {},
     "output_type": "execute_result"
    }
   ],
   "source": [
    "a=None\n",
    "b"
   ]
  },
  {
   "cell_type": "code",
   "execution_count": 17,
   "metadata": {},
   "outputs": [],
   "source": [
    "b=None"
   ]
  },
  {
   "cell_type": "code",
   "execution_count": null,
   "metadata": {},
   "outputs": [],
   "source": [
    "x=1\n",
    "del x\n",
    "x"
   ]
  },
  {
   "cell_type": "code",
   "execution_count": 18,
   "metadata": {},
   "outputs": [
    {
     "data": {
      "text/plain": [
       "[1, 2, 3]"
      ]
     },
     "execution_count": 18,
     "metadata": {},
     "output_type": "execute_result"
    }
   ],
   "source": [
    "a=[1,2,3]\n",
    "b=a\n",
    "del a#del 不释放内存，只是删除了a，并未删除对象\n",
    "b"
   ]
  },
  {
   "cell_type": "code",
   "execution_count": 20,
   "metadata": {},
   "outputs": [
    {
     "name": "stdout",
     "output_type": "stream",
     "text": [
      "hello,world\n"
     ]
    }
   ],
   "source": [
    "exec('print(\"hello,world\")')"
   ]
  },
  {
   "cell_type": "code",
   "execution_count": 25,
   "metadata": {},
   "outputs": [],
   "source": [
    "scope={}\n",
    "exec('y=1',scope)"
   ]
  },
  {
   "cell_type": "code",
   "execution_count": 27,
   "metadata": {},
   "outputs": [
    {
     "data": {
      "text/plain": [
       "1"
      ]
     },
     "execution_count": 27,
     "metadata": {},
     "output_type": "execute_result"
    }
   ],
   "source": [
    "scope['y']"
   ]
  },
  {
   "cell_type": "code",
   "execution_count": 28,
   "metadata": {},
   "outputs": [
    {
     "data": {
      "text/plain": [
       "{'__name__': '__main__',\n",
       " '__doc__': 'Automatically created module for IPython interactive environment',\n",
       " '__package__': None,\n",
       " '__loader__': None,\n",
       " '__spec__': None,\n",
       " '__builtin__': <module 'builtins' (built-in)>,\n",
       " '__builtins__': <module 'builtins' (built-in)>,\n",
       " '_ih': ['',\n",
       "  'a=list(range(0,10))\\nb=list()\\nfor item in a:\\n    b.append(item*item)\\nprint(a)\\nprint(b)',\n",
       "  'b=[item*item for item in range(0,10)]',\n",
       "  'b=[item*item for item in range(0,10)]',\n",
       "  'b=[item*item for item in range(0,10)]\\nprint(b)',\n",
       "  'a=[item for item in range(0,100) if item%3==0]\\nprint(a)',\n",
       "  'coordinates=[]\\nfor x in range(0,10)\\n   for y in range(0,10)\\n    coordinates.append((x,y))\\nprint(coordinates)',\n",
       "  'coordinates=[]\\nfor x in range(0,10):\\n    for y in range(0,10):\\n        coordinates.append((x,y))\\nprint(coordinates)',\n",
       "  'coordinates=[(x,y) for x in range(0,10) for y in range(0,10)]\\nprint(coordinates)',\n",
       "  \"girls=['alice','bernice','cuzy']\\nboys=['chris','amy','bob']\\nresult=[boy+'+'+girl for boy in boys for girl in girls if boy[0]==grl[0]]\",\n",
       "  \"girls=['alice','bernice','cuzy']\\nboys=['chris','amy','bob']\\nresult=[boy+'+'+girl for boy in boys for girl in girls if boy[0]==girl[0]]\",\n",
       "  \"girls=['alice','bernice','cuzy']\\nboys=['chris','amy','bob']\\nresult=[boy+'+'+girl for boy in boys for girl in girls if boy[0]==girl[0]]\\nprint(result)\",\n",
       "  'squares={i:i**2 for i in range(0,10)}\\nprint(squares)',\n",
       "  'list=[1,2,3]\\nb=a\\nb is a',\n",
       "  'a=None\\nb',\n",
       "  'a=[1,2,3]\\nb=a\\nb is a',\n",
       "  'a=None\\nb',\n",
       "  'b=None',\n",
       "  'a=[1,2,3]\\nb=a\\ndel a\\nb',\n",
       "  \"exec('print('hello,world')')\",\n",
       "  'exec(\\'print(\"hello,world\")\\')',\n",
       "  \"scope={}\\nexec{'y=1',scope}\\ny\",\n",
       "  \"scope={}\\nexec{'y=1',scope}\",\n",
       "  'print(scope)',\n",
       "  \"scope{'y'}\",\n",
       "  \"scope={}\\nexec('y=1',scope)\",\n",
       "  \"scope('y')\",\n",
       "  \"scope['y']\",\n",
       "  'vars()'],\n",
       " '_oh': {13: True,\n",
       "  14: [0,\n",
       "   3,\n",
       "   6,\n",
       "   9,\n",
       "   12,\n",
       "   15,\n",
       "   18,\n",
       "   21,\n",
       "   24,\n",
       "   27,\n",
       "   30,\n",
       "   33,\n",
       "   36,\n",
       "   39,\n",
       "   42,\n",
       "   45,\n",
       "   48,\n",
       "   51,\n",
       "   54,\n",
       "   57,\n",
       "   60,\n",
       "   63,\n",
       "   66,\n",
       "   69,\n",
       "   72,\n",
       "   75,\n",
       "   78,\n",
       "   81,\n",
       "   84,\n",
       "   87,\n",
       "   90,\n",
       "   93,\n",
       "   96,\n",
       "   99],\n",
       "  15: True,\n",
       "  16: [1, 2, 3],\n",
       "  18: [1, 2, 3],\n",
       "  27: 1},\n",
       " '_dh': ['C:\\\\Users\\\\Lenovo'],\n",
       " 'In': ['',\n",
       "  'a=list(range(0,10))\\nb=list()\\nfor item in a:\\n    b.append(item*item)\\nprint(a)\\nprint(b)',\n",
       "  'b=[item*item for item in range(0,10)]',\n",
       "  'b=[item*item for item in range(0,10)]',\n",
       "  'b=[item*item for item in range(0,10)]\\nprint(b)',\n",
       "  'a=[item for item in range(0,100) if item%3==0]\\nprint(a)',\n",
       "  'coordinates=[]\\nfor x in range(0,10)\\n   for y in range(0,10)\\n    coordinates.append((x,y))\\nprint(coordinates)',\n",
       "  'coordinates=[]\\nfor x in range(0,10):\\n    for y in range(0,10):\\n        coordinates.append((x,y))\\nprint(coordinates)',\n",
       "  'coordinates=[(x,y) for x in range(0,10) for y in range(0,10)]\\nprint(coordinates)',\n",
       "  \"girls=['alice','bernice','cuzy']\\nboys=['chris','amy','bob']\\nresult=[boy+'+'+girl for boy in boys for girl in girls if boy[0]==grl[0]]\",\n",
       "  \"girls=['alice','bernice','cuzy']\\nboys=['chris','amy','bob']\\nresult=[boy+'+'+girl for boy in boys for girl in girls if boy[0]==girl[0]]\",\n",
       "  \"girls=['alice','bernice','cuzy']\\nboys=['chris','amy','bob']\\nresult=[boy+'+'+girl for boy in boys for girl in girls if boy[0]==girl[0]]\\nprint(result)\",\n",
       "  'squares={i:i**2 for i in range(0,10)}\\nprint(squares)',\n",
       "  'list=[1,2,3]\\nb=a\\nb is a',\n",
       "  'a=None\\nb',\n",
       "  'a=[1,2,3]\\nb=a\\nb is a',\n",
       "  'a=None\\nb',\n",
       "  'b=None',\n",
       "  'a=[1,2,3]\\nb=a\\ndel a\\nb',\n",
       "  \"exec('print('hello,world')')\",\n",
       "  'exec(\\'print(\"hello,world\")\\')',\n",
       "  \"scope={}\\nexec{'y=1',scope}\\ny\",\n",
       "  \"scope={}\\nexec{'y=1',scope}\",\n",
       "  'print(scope)',\n",
       "  \"scope{'y'}\",\n",
       "  \"scope={}\\nexec('y=1',scope)\",\n",
       "  \"scope('y')\",\n",
       "  \"scope['y']\",\n",
       "  'vars()'],\n",
       " 'Out': {13: True,\n",
       "  14: [0,\n",
       "   3,\n",
       "   6,\n",
       "   9,\n",
       "   12,\n",
       "   15,\n",
       "   18,\n",
       "   21,\n",
       "   24,\n",
       "   27,\n",
       "   30,\n",
       "   33,\n",
       "   36,\n",
       "   39,\n",
       "   42,\n",
       "   45,\n",
       "   48,\n",
       "   51,\n",
       "   54,\n",
       "   57,\n",
       "   60,\n",
       "   63,\n",
       "   66,\n",
       "   69,\n",
       "   72,\n",
       "   75,\n",
       "   78,\n",
       "   81,\n",
       "   84,\n",
       "   87,\n",
       "   90,\n",
       "   93,\n",
       "   96,\n",
       "   99],\n",
       "  15: True,\n",
       "  16: [1, 2, 3],\n",
       "  18: [1, 2, 3],\n",
       "  27: 1},\n",
       " 'get_ipython': <bound method InteractiveShell.get_ipython of <ipykernel.zmqshell.ZMQInteractiveShell object at 0x000001895FA098D0>>,\n",
       " 'exit': <IPython.core.autocall.ZMQExitAutocall at 0x1895fa67d68>,\n",
       " 'quit': <IPython.core.autocall.ZMQExitAutocall at 0x1895fa67d68>,\n",
       " '_': 1,\n",
       " '__': [1, 2, 3],\n",
       " '___': [1, 2, 3],\n",
       " '_i': \"scope['y']\",\n",
       " '_ii': \"scope('y')\",\n",
       " '_iii': \"scope={}\\nexec('y=1',scope)\",\n",
       " '_i1': 'a=list(range(0,10))\\nb=list()\\nfor item in a:\\n    b.append(item*item)\\nprint(a)\\nprint(b)',\n",
       " 'b': [1, 2, 3],\n",
       " 'item': 9,\n",
       " '_i2': 'b=[item*item for item in range(0,10)]',\n",
       " '_i3': 'b=[item*item for item in range(0,10)]',\n",
       " '_i4': 'b=[item*item for item in range(0,10)]\\nprint(b)',\n",
       " '_i5': 'a=[item for item in range(0,100) if item%3==0]\\nprint(a)',\n",
       " '_i6': 'coordinates=[]\\nfor x in range(0,10)\\n   for y in range(0,10)\\n    coordinates.append((x,y))\\nprint(coordinates)',\n",
       " '_i7': 'coordinates=[]\\nfor x in range(0,10):\\n    for y in range(0,10):\\n        coordinates.append((x,y))\\nprint(coordinates)',\n",
       " 'coordinates': [(0, 0),\n",
       "  (0, 1),\n",
       "  (0, 2),\n",
       "  (0, 3),\n",
       "  (0, 4),\n",
       "  (0, 5),\n",
       "  (0, 6),\n",
       "  (0, 7),\n",
       "  (0, 8),\n",
       "  (0, 9),\n",
       "  (1, 0),\n",
       "  (1, 1),\n",
       "  (1, 2),\n",
       "  (1, 3),\n",
       "  (1, 4),\n",
       "  (1, 5),\n",
       "  (1, 6),\n",
       "  (1, 7),\n",
       "  (1, 8),\n",
       "  (1, 9),\n",
       "  (2, 0),\n",
       "  (2, 1),\n",
       "  (2, 2),\n",
       "  (2, 3),\n",
       "  (2, 4),\n",
       "  (2, 5),\n",
       "  (2, 6),\n",
       "  (2, 7),\n",
       "  (2, 8),\n",
       "  (2, 9),\n",
       "  (3, 0),\n",
       "  (3, 1),\n",
       "  (3, 2),\n",
       "  (3, 3),\n",
       "  (3, 4),\n",
       "  (3, 5),\n",
       "  (3, 6),\n",
       "  (3, 7),\n",
       "  (3, 8),\n",
       "  (3, 9),\n",
       "  (4, 0),\n",
       "  (4, 1),\n",
       "  (4, 2),\n",
       "  (4, 3),\n",
       "  (4, 4),\n",
       "  (4, 5),\n",
       "  (4, 6),\n",
       "  (4, 7),\n",
       "  (4, 8),\n",
       "  (4, 9),\n",
       "  (5, 0),\n",
       "  (5, 1),\n",
       "  (5, 2),\n",
       "  (5, 3),\n",
       "  (5, 4),\n",
       "  (5, 5),\n",
       "  (5, 6),\n",
       "  (5, 7),\n",
       "  (5, 8),\n",
       "  (5, 9),\n",
       "  (6, 0),\n",
       "  (6, 1),\n",
       "  (6, 2),\n",
       "  (6, 3),\n",
       "  (6, 4),\n",
       "  (6, 5),\n",
       "  (6, 6),\n",
       "  (6, 7),\n",
       "  (6, 8),\n",
       "  (6, 9),\n",
       "  (7, 0),\n",
       "  (7, 1),\n",
       "  (7, 2),\n",
       "  (7, 3),\n",
       "  (7, 4),\n",
       "  (7, 5),\n",
       "  (7, 6),\n",
       "  (7, 7),\n",
       "  (7, 8),\n",
       "  (7, 9),\n",
       "  (8, 0),\n",
       "  (8, 1),\n",
       "  (8, 2),\n",
       "  (8, 3),\n",
       "  (8, 4),\n",
       "  (8, 5),\n",
       "  (8, 6),\n",
       "  (8, 7),\n",
       "  (8, 8),\n",
       "  (8, 9),\n",
       "  (9, 0),\n",
       "  (9, 1),\n",
       "  (9, 2),\n",
       "  (9, 3),\n",
       "  (9, 4),\n",
       "  (9, 5),\n",
       "  (9, 6),\n",
       "  (9, 7),\n",
       "  (9, 8),\n",
       "  (9, 9)],\n",
       " 'x': 9,\n",
       " 'y': 9,\n",
       " '_i8': 'coordinates=[(x,y) for x in range(0,10) for y in range(0,10)]\\nprint(coordinates)',\n",
       " '_i9': \"girls=['alice','bernice','cuzy']\\nboys=['chris','amy','bob']\\nresult=[boy+'+'+girl for boy in boys for girl in girls if boy[0]==grl[0]]\",\n",
       " 'girls': ['alice', 'bernice', 'cuzy'],\n",
       " 'boys': ['chris', 'amy', 'bob'],\n",
       " '_i10': \"girls=['alice','bernice','cuzy']\\nboys=['chris','amy','bob']\\nresult=[boy+'+'+girl for boy in boys for girl in girls if boy[0]==girl[0]]\",\n",
       " 'result': ['chris+cuzy', 'amy+alice', 'bob+bernice'],\n",
       " '_i11': \"girls=['alice','bernice','cuzy']\\nboys=['chris','amy','bob']\\nresult=[boy+'+'+girl for boy in boys for girl in girls if boy[0]==girl[0]]\\nprint(result)\",\n",
       " '_i12': 'squares={i:i**2 for i in range(0,10)}\\nprint(squares)',\n",
       " 'squares': {0: 0, 1: 1, 2: 4, 3: 9, 4: 16, 5: 25, 6: 36, 7: 49, 8: 64, 9: 81},\n",
       " '_i13': 'list=[1,2,3]\\nb=a\\nb is a',\n",
       " 'list': [1, 2, 3],\n",
       " '_13': True,\n",
       " '_i14': 'a=None\\nb',\n",
       " '_14': [0,\n",
       "  3,\n",
       "  6,\n",
       "  9,\n",
       "  12,\n",
       "  15,\n",
       "  18,\n",
       "  21,\n",
       "  24,\n",
       "  27,\n",
       "  30,\n",
       "  33,\n",
       "  36,\n",
       "  39,\n",
       "  42,\n",
       "  45,\n",
       "  48,\n",
       "  51,\n",
       "  54,\n",
       "  57,\n",
       "  60,\n",
       "  63,\n",
       "  66,\n",
       "  69,\n",
       "  72,\n",
       "  75,\n",
       "  78,\n",
       "  81,\n",
       "  84,\n",
       "  87,\n",
       "  90,\n",
       "  93,\n",
       "  96,\n",
       "  99],\n",
       " '_i15': 'a=[1,2,3]\\nb=a\\nb is a',\n",
       " '_15': True,\n",
       " '_i16': 'a=None\\nb',\n",
       " '_16': [1, 2, 3],\n",
       " '_i17': 'b=None',\n",
       " '_i18': 'a=[1,2,3]\\nb=a\\ndel a\\nb',\n",
       " '_18': [1, 2, 3],\n",
       " '_i19': \"exec('print('hello,world')')\",\n",
       " '_i20': 'exec(\\'print(\"hello,world\")\\')',\n",
       " '_i21': \"scope={}\\nexec{'y=1',scope}\\ny\",\n",
       " '_i22': \"scope={}\\nexec{'y=1',scope}\",\n",
       " '_i23': 'print(scope)',\n",
       " '_i24': \"scope{'y'}\",\n",
       " '_i25': \"scope={}\\nexec('y=1',scope)\",\n",
       " 'scope': {'__builtins__': {'__name__': 'builtins',\n",
       "   '__doc__': \"Built-in functions, exceptions, and other objects.\\n\\nNoteworthy: None is the `nil' object; Ellipsis represents `...' in slices.\",\n",
       "   '__package__': '',\n",
       "   '__loader__': _frozen_importlib.BuiltinImporter,\n",
       "   '__spec__': ModuleSpec(name='builtins', loader=<class '_frozen_importlib.BuiltinImporter'>),\n",
       "   '__build_class__': <function __build_class__>,\n",
       "   '__import__': <function __import__>,\n",
       "   'abs': <function abs(x, /)>,\n",
       "   'all': <function all(iterable, /)>,\n",
       "   'any': <function any(iterable, /)>,\n",
       "   'ascii': <function ascii(obj, /)>,\n",
       "   'bin': <function bin(number, /)>,\n",
       "   'callable': <function callable(obj, /)>,\n",
       "   'chr': <function chr(i, /)>,\n",
       "   'compile': <function compile(source, filename, mode, flags=0, dont_inherit=False, optimize=-1)>,\n",
       "   'delattr': <function delattr(obj, name, /)>,\n",
       "   'dir': <function dir>,\n",
       "   'divmod': <function divmod(x, y, /)>,\n",
       "   'eval': <function eval(source, globals=None, locals=None, /)>,\n",
       "   'exec': <function exec(source, globals=None, locals=None, /)>,\n",
       "   'format': <function format(value, format_spec='', /)>,\n",
       "   'getattr': <function getattr>,\n",
       "   'globals': <function globals()>,\n",
       "   'hasattr': <function hasattr(obj, name, /)>,\n",
       "   'hash': <function hash(obj, /)>,\n",
       "   'hex': <function hex(number, /)>,\n",
       "   'id': <function id(obj, /)>,\n",
       "   'input': <bound method Kernel.raw_input of <ipykernel.ipkernel.IPythonKernel object at 0x000001895FA09AC8>>,\n",
       "   'isinstance': <function isinstance(obj, class_or_tuple, /)>,\n",
       "   'issubclass': <function issubclass(cls, class_or_tuple, /)>,\n",
       "   'iter': <function iter>,\n",
       "   'len': <function len(obj, /)>,\n",
       "   'locals': <function locals()>,\n",
       "   'max': <function max>,\n",
       "   'min': <function min>,\n",
       "   'next': <function next>,\n",
       "   'oct': <function oct(number, /)>,\n",
       "   'ord': <function ord(c, /)>,\n",
       "   'pow': <function pow(x, y, z=None, /)>,\n",
       "   'print': <function print>,\n",
       "   'repr': <function repr(obj, /)>,\n",
       "   'round': <function round>,\n",
       "   'setattr': <function setattr(obj, name, value, /)>,\n",
       "   'sorted': <function sorted(iterable, /, *, key=None, reverse=False)>,\n",
       "   'sum': <function sum(iterable, start=0, /)>,\n",
       "   'vars': <function vars>,\n",
       "   'None': None,\n",
       "   'Ellipsis': Ellipsis,\n",
       "   'NotImplemented': NotImplemented,\n",
       "   'False': False,\n",
       "   'True': True,\n",
       "   'bool': bool,\n",
       "   'memoryview': memoryview,\n",
       "   'bytearray': bytearray,\n",
       "   'bytes': bytes,\n",
       "   'classmethod': classmethod,\n",
       "   'complex': complex,\n",
       "   'dict': dict,\n",
       "   'enumerate': enumerate,\n",
       "   'filter': filter,\n",
       "   'float': float,\n",
       "   'frozenset': frozenset,\n",
       "   'property': property,\n",
       "   'int': int,\n",
       "   'list': list,\n",
       "   'map': map,\n",
       "   'object': object,\n",
       "   'range': range,\n",
       "   'reversed': reversed,\n",
       "   'set': set,\n",
       "   'slice': slice,\n",
       "   'staticmethod': staticmethod,\n",
       "   'str': str,\n",
       "   'super': super,\n",
       "   'tuple': tuple,\n",
       "   'type': type,\n",
       "   'zip': zip,\n",
       "   '__debug__': True,\n",
       "   'BaseException': BaseException,\n",
       "   'Exception': Exception,\n",
       "   'TypeError': TypeError,\n",
       "   'StopAsyncIteration': StopAsyncIteration,\n",
       "   'StopIteration': StopIteration,\n",
       "   'GeneratorExit': GeneratorExit,\n",
       "   'SystemExit': SystemExit,\n",
       "   'KeyboardInterrupt': KeyboardInterrupt,\n",
       "   'ImportError': ImportError,\n",
       "   'ModuleNotFoundError': ModuleNotFoundError,\n",
       "   'OSError': OSError,\n",
       "   'EnvironmentError': OSError,\n",
       "   'IOError': OSError,\n",
       "   'WindowsError': OSError,\n",
       "   'EOFError': EOFError,\n",
       "   'RuntimeError': RuntimeError,\n",
       "   'RecursionError': RecursionError,\n",
       "   'NotImplementedError': NotImplementedError,\n",
       "   'NameError': NameError,\n",
       "   'UnboundLocalError': UnboundLocalError,\n",
       "   'AttributeError': AttributeError,\n",
       "   'SyntaxError': SyntaxError,\n",
       "   'IndentationError': IndentationError,\n",
       "   'TabError': TabError,\n",
       "   'LookupError': LookupError,\n",
       "   'IndexError': IndexError,\n",
       "   'KeyError': KeyError,\n",
       "   'ValueError': ValueError,\n",
       "   'UnicodeError': UnicodeError,\n",
       "   'UnicodeEncodeError': UnicodeEncodeError,\n",
       "   'UnicodeDecodeError': UnicodeDecodeError,\n",
       "   'UnicodeTranslateError': UnicodeTranslateError,\n",
       "   'AssertionError': AssertionError,\n",
       "   'ArithmeticError': ArithmeticError,\n",
       "   'FloatingPointError': FloatingPointError,\n",
       "   'OverflowError': OverflowError,\n",
       "   'ZeroDivisionError': ZeroDivisionError,\n",
       "   'SystemError': SystemError,\n",
       "   'ReferenceError': ReferenceError,\n",
       "   'BufferError': BufferError,\n",
       "   'MemoryError': MemoryError,\n",
       "   'Warning': Warning,\n",
       "   'UserWarning': UserWarning,\n",
       "   'DeprecationWarning': DeprecationWarning,\n",
       "   'PendingDeprecationWarning': PendingDeprecationWarning,\n",
       "   'SyntaxWarning': SyntaxWarning,\n",
       "   'RuntimeWarning': RuntimeWarning,\n",
       "   'FutureWarning': FutureWarning,\n",
       "   'ImportWarning': ImportWarning,\n",
       "   'UnicodeWarning': UnicodeWarning,\n",
       "   'BytesWarning': BytesWarning,\n",
       "   'ResourceWarning': ResourceWarning,\n",
       "   'ConnectionError': ConnectionError,\n",
       "   'BlockingIOError': BlockingIOError,\n",
       "   'BrokenPipeError': BrokenPipeError,\n",
       "   'ChildProcessError': ChildProcessError,\n",
       "   'ConnectionAbortedError': ConnectionAbortedError,\n",
       "   'ConnectionRefusedError': ConnectionRefusedError,\n",
       "   'ConnectionResetError': ConnectionResetError,\n",
       "   'FileExistsError': FileExistsError,\n",
       "   'FileNotFoundError': FileNotFoundError,\n",
       "   'IsADirectoryError': IsADirectoryError,\n",
       "   'NotADirectoryError': NotADirectoryError,\n",
       "   'InterruptedError': InterruptedError,\n",
       "   'PermissionError': PermissionError,\n",
       "   'ProcessLookupError': ProcessLookupError,\n",
       "   'TimeoutError': TimeoutError,\n",
       "   'open': <function io.open(file, mode='r', buffering=-1, encoding=None, errors=None, newline=None, closefd=True, opener=None)>,\n",
       "   'copyright': Copyright (c) 2001-2018 Python Software Foundation.\n",
       "   All Rights Reserved.\n",
       "   \n",
       "   Copyright (c) 2000 BeOpen.com.\n",
       "   All Rights Reserved.\n",
       "   \n",
       "   Copyright (c) 1995-2001 Corporation for National Research Initiatives.\n",
       "   All Rights Reserved.\n",
       "   \n",
       "   Copyright (c) 1991-1995 Stichting Mathematisch Centrum, Amsterdam.\n",
       "   All Rights Reserved.,\n",
       "   'credits':     Thanks to CWI, CNRI, BeOpen.com, Zope Corporation and a cast of thousands\n",
       "       for supporting Python development.  See www.python.org for more information.,\n",
       "   'license': See https://www.python.org/psf/license/,\n",
       "   'help': Type help() for interactive help, or help(object) for help about object.,\n",
       "   '__IPYTHON__': True,\n",
       "   'display': <function IPython.core.display.display(*objs, include=None, exclude=None, metadata=None, transient=None, display_id=None, **kwargs)>,\n",
       "   'get_ipython': <bound method InteractiveShell.get_ipython of <ipykernel.zmqshell.ZMQInteractiveShell object at 0x000001895FA098D0>>},\n",
       "  'y': 1},\n",
       " '_i26': \"scope('y')\",\n",
       " '_i27': \"scope['y']\",\n",
       " '_27': 1,\n",
       " '_i28': 'vars()'}"
      ]
     },
     "execution_count": 28,
     "metadata": {},
     "output_type": "execute_result"
    }
   ],
   "source": [
    "vars()"
   ]
  },
  {
   "cell_type": "code",
   "execution_count": 29,
   "metadata": {},
   "outputs": [
    {
     "data": {
      "text/plain": [
       "6"
      ]
     },
     "execution_count": 29,
     "metadata": {},
     "output_type": "execute_result"
    }
   ],
   "source": [
    "eval('1+2+3')"
   ]
  },
  {
   "cell_type": "code",
   "execution_count": 31,
   "metadata": {},
   "outputs": [
    {
     "name": "stdout",
     "output_type": "stream",
     "text": [
      "3\n"
     ]
    }
   ],
   "source": [
    "expr=input('please input an expression:')\n",
    "print(eval(expr))"
   ]
  },
  {
   "cell_type": "code",
   "execution_count": null,
   "metadata": {},
   "outputs": [],
   "source": []
  }
 ],
 "metadata": {
  "kernelspec": {
   "display_name": "Python 3",
   "language": "python",
   "name": "python3"
  },
  "language_info": {
   "codemirror_mode": {
    "name": "ipython",
    "version": 3
   },
   "file_extension": ".py",
   "mimetype": "text/x-python",
   "name": "python",
   "nbconvert_exporter": "python",
   "pygments_lexer": "ipython3",
   "version": "3.6.5"
  }
 },
 "nbformat": 4,
 "nbformat_minor": 2
}
