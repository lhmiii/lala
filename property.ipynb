{
 "cells": [
  {
   "cell_type": "code",
   "execution_count": 2,
   "metadata": {},
   "outputs": [
    {
     "ename": "SyntaxError",
     "evalue": "unexpected EOF while parsing (<ipython-input-2-cdf0ca9762a0>, line 21)",
     "output_type": "error",
     "traceback": [
      "\u001b[1;36m  File \u001b[1;32m\"<ipython-input-2-cdf0ca9762a0>\"\u001b[1;36m, line \u001b[1;32m21\u001b[0m\n\u001b[1;33m    \u001b[0m\n\u001b[1;37m    ^\u001b[0m\n\u001b[1;31mSyntaxError\u001b[0m\u001b[1;31m:\u001b[0m unexpected EOF while parsing\n"
     ]
    }
   ],
   "source": [
    "class rectangle:\n",
    "    def _init_(self):\n",
    "        self.__width=0#加下划线：隐藏\n",
    "        self.__height=0\n",
    "    def set_size(self,size):\n",
    "        assert(size[0]>=0 and size[1]>=0)\n",
    "        self.__width,self.__height=size\n",
    "    def get_size(self):\n",
    "        return self.__width,self.__height\n",
    "    \n",
    "    size=property(get_size,set_size)\n",
    "    \n",
    "    def get_width(self):\n",
    "        return self.__width\n",
    "    def set_width(self):\n",
    "        if width<0:raise ValueError\n",
    "        self.__width=width\n",
    "    def get_height(self):\n",
    "        return self._height\n",
    "    def set_height(self,height):\n",
    "        if height<0:raise ValueError\n",
    "        self._height=height\n",
    "    width=property(get_width,set_width)\n",
    "    height=property(get_height,set_height)\n",
    "            "
   ]
  },
  {
   "cell_type": "code",
   "execution_count": null,
   "metadata": {},
   "outputs": [],
   "source": [
    "rect=rectangle()\n",
    "rect.set_size(-3,4)\n",
    "print(rect.get_size())"
   ]
  },
  {
   "cell_type": "code",
   "execution_count": null,
   "metadata": {},
   "outputs": [],
   "source": [
    "rect.size=(3,4)\n",
    "print(rect.size)"
   ]
  },
  {
   "cell_type": "code",
   "execution_count": null,
   "metadata": {},
   "outputs": [],
   "source": [
    "rect=rectangle()\n",
    "rect.width=-3"
   ]
  },
  {
   "cell_type": "code",
   "execution_count": null,
   "metadata": {},
   "outputs": [],
   "source": [
    "class MyClass:\n",
    "    def static_method():#无法访问类和对象-静态函数\n",
    "        print('This is a static method.')\n",
    "    static_method=staticmethod(static_method)\n",
    "    def class_method(cls):#可访问类中的方法和函数\n",
    "        #self:可访问每个对象的方法和函数\n",
    "        print('This is a class method of:.',cls)\n",
    "    class_method=classmethod(class_method)\n",
    "MyClass.static_method()#通过类调用函数\n",
    "MyClass.class_method()\n",
    "    "
   ]
  },
  {
   "cell_type": "code",
   "execution_count": null,
   "metadata": {},
   "outputs": [],
   "source": [
    "class MyClass:\n",
    "    @staticmethod\n",
    "    def static_method():#无法访问类和对象-静态函数\n",
    "        print('This is a static method.')\n",
    "    #static_method=staticmethod(static_method)\n",
    "    @classmethod\n",
    "    def class_method(cls):#可访问类中的方法和函数\n",
    "        #self:可访问每个对象的方法和函数\n",
    "        print('This is a class method of:.',cls)\n",
    "    #class_method=classmethod(class_method)\n",
    "MyClass.static_method()#通过类调用函数\n",
    "MyClass.class_method()\n",
    "    "
   ]
  },
  {
   "cell_type": "code",
   "execution_count": null,
   "metadata": {},
   "outputs": [],
   "source": [
    "#封装成property\n",
    "class rectangle:\n",
    "    def _init_(self):\n",
    "        self.__width=0#加下划线：隐藏\n",
    "        self.__hight=0\n",
    "    @property#读函数\n",
    "    def size(self):\n",
    "        return self.__width,self.__height\n",
    "    @size.setter#写函数\n",
    "    def set_size(self,size):\n",
    "        assert(size[o]>=0 and size[1]>=0)\n",
    "        self.__width,self.__height=size\n",
    "    \n",
    "    #size=property(get_size,set_size)\n",
    "    @property \n",
    "    def get_width(self):\n",
    "        return self.__width\n",
    "    @width.setter\n",
    "    def set_width(self):\n",
    "        if width<0:raise ValueError\n",
    "        self.__width=width\n",
    "    @property\n",
    "    def get_height(self):\n",
    "        return self._height\n",
    "    @height.setter\n",
    "    def set_height(self,height):\n",
    "        if height<0:raise ValueError\n",
    "        self._height=height\n",
    "    width=property(get_width,set_width)\n",
    "    height=property(get_height,set_height)\n",
    "            "
   ]
  },
  {
   "cell_type": "code",
   "execution_count": null,
   "metadata": {},
   "outputs": [],
   "source": [
    "rect=rectangle()\n",
    "rect.size=(-3,4)\n",
    "#rect.set.size"
   ]
  },
  {
   "cell_type": "code",
   "execution_count": null,
   "metadata": {},
   "outputs": [],
   "source": [
    "size=(-3,4)"
   ]
  },
  {
   "cell_type": "code",
   "execution_count": 3,
   "metadata": {},
   "outputs": [
    {
     "ename": "SyntaxError",
     "evalue": "unexpected EOF while parsing (<ipython-input-3-240c9d34bf65>, line 1)",
     "output_type": "error",
     "traceback": [
      "\u001b[1;36m  File \u001b[1;32m\"<ipython-input-3-240c9d34bf65>\"\u001b[1;36m, line \u001b[1;32m1\u001b[0m\n\u001b[1;33m    class rectangle:\u001b[0m\n\u001b[1;37m                    ^\u001b[0m\n\u001b[1;31mSyntaxError\u001b[0m\u001b[1;31m:\u001b[0m unexpected EOF while parsing\n"
     ]
    }
   ],
   "source": [
    "class rectangle:\n",
    "    def _init_(self):\n",
    "        self.width=0\n",
    "        self.height=0\n",
    "    def _setattr_(self,name,value):\n",
    "        if name=='size':\n",
    "            if value[0]<0 or value[1]<1:raise ValueError()\n",
    "            self.width,self.height=value\n",
    "        elif name=='width':\n",
    "            if value<0:raise ValueError()\n",
    "            self.width=value\n",
    "        elif name=='height':\n",
    "            if value<0:raise ValueError()\n",
    "            self.height=value\n",
    "        else:\n",
    "            self._dict_[name]=value\n",
    "    def _getattr_(self,name):\n",
    "        if name=='size':\n",
    "            return self.width,self.height\n",
    "        else:\n",
    "            return self._dict_[name]\n",
    "        #raise AttributeError\n",
    "    \n",
    "    "
   ]
  },
  {
   "cell_type": "code",
   "execution_count": 5,
   "metadata": {},
   "outputs": [
    {
     "data": {
      "text/plain": [
       "0.0"
      ]
     },
     "execution_count": 5,
     "metadata": {},
     "output_type": "execute_result"
    }
   ],
   "source": [
    "import math\n",
    "math.sin(0)"
   ]
  },
  {
   "cell_type": "code",
   "execution_count": null,
   "metadata": {},
   "outputs": [],
   "source": [
    "import sys\n",
    "sys.path.append('')"
   ]
  },
  {
   "cell_type": "code",
   "execution_count": null,
   "metadata": {},
   "outputs": [],
   "source": [
    "import hello\n",
    "hello.hello()"
   ]
  },
  {
   "cell_type": "code",
   "execution_count": null,
   "metadata": {},
   "outputs": [],
   "source": [
    "from hello import*\n",
    "hello()"
   ]
  },
  {
   "cell_type": "code",
   "execution_count": null,
   "metadata": {},
   "outputs": [],
   "source": [
    "import importlib\n",
    "hello=importlib.reload(hello)"
   ]
  },
  {
   "cell_type": "code",
   "execution_count": null,
   "metadata": {},
   "outputs": [],
   "source": [
    "hello"
   ]
  },
  {
   "cell_type": "code",
   "execution_count": null,
   "metadata": {},
   "outputs": [],
   "source": [
    "hello.hello()"
   ]
  },
  {
   "cell_type": "code",
   "execution_count": null,
   "metadata": {},
   "outputs": [],
   "source": []
  }
 ],
 "metadata": {
  "kernelspec": {
   "display_name": "Python 3",
   "language": "python",
   "name": "python3"
  },
  "language_info": {
   "codemirror_mode": {
    "name": "ipython",
    "version": 3
   },
   "file_extension": ".py",
   "mimetype": "text/x-python",
   "name": "python",
   "nbconvert_exporter": "python",
   "pygments_lexer": "ipython3",
   "version": "3.6.5"
  }
 },
 "nbformat": 4,
 "nbformat_minor": 2
}
