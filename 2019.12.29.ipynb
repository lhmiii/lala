{
 "cells": [
  {
   "cell_type": "code",
   "execution_count": 1,
   "metadata": {},
   "outputs": [],
   "source": [
    "lines=['hello\\n','word\\n','test\\n']\n",
    "f=open('test.text','w')\n",
    "f.writelines(lines)\n",
    "f.close()"
   ]
  },
  {
   "cell_type": "code",
   "execution_count": null,
   "metadata": {},
   "outputs": [],
   "source": [
    "with open('test.text') as f:\n",
    "    #with建立环境管理器\n",
    "    print(f.read())"
   ]
  },
  {
   "cell_type": "code",
   "execution_count": null,
   "metadata": {},
   "outputs": [],
   "source": [
    "def process_line(line):\n",
    "    print('processing:{}'.format(line))\n",
    "    \n",
    "with open{'test.text'} as f:\n",
    "    for line in f.readline():\n",
    "        process_line(line)"
   ]
  },
  {
   "cell_type": "code",
   "execution_count": null,
   "metadata": {},
   "outputs": [],
   "source": [
    "def process_line(line):\n",
    "    print('processing:{}'.format(line))\n",
    "    \n",
    "with open{'test.text'} as f:\n",
    "    while true:\n",
    "        line=f.readline()\n",
    "    if not line: break\n",
    "        process_line(line)"
   ]
  },
  {
   "cell_type": "code",
   "execution_count": 4,
   "metadata": {},
   "outputs": [
    {
     "ename": "ImportError",
     "evalue": "cannot import name 'scrolledtext'",
     "output_type": "error",
     "traceback": [
      "\u001b[1;31m---------------------------------------------------------------------------\u001b[0m",
      "\u001b[1;31mImportError\u001b[0m                               Traceback (most recent call last)",
      "\u001b[1;32m<ipython-input-4-1f7de29a1049>\u001b[0m in \u001b[0;36m<module>\u001b[1;34m()\u001b[0m\n\u001b[0;32m      1\u001b[0m \u001b[1;32mfrom\u001b[0m \u001b[0mtkinter\u001b[0m \u001b[1;32mimport\u001b[0m \u001b[1;33m*\u001b[0m\u001b[1;33m\u001b[0m\u001b[0m\n\u001b[0;32m      2\u001b[0m \u001b[1;32mfrom\u001b[0m \u001b[0mtkinter\u001b[0m \u001b[1;32mimport\u001b[0m \u001b[0mttk\u001b[0m\u001b[1;33m\u001b[0m\u001b[0m\n\u001b[1;32m----> 3\u001b[1;33m \u001b[1;32mfrom\u001b[0m \u001b[0mtkinter\u001b[0m\u001b[1;33m.\u001b[0m\u001b[0mscrolledtext\u001b[0m \u001b[1;32mimport\u001b[0m \u001b[0mscrolledtext\u001b[0m\u001b[1;33m\u001b[0m\u001b[0m\n\u001b[0m\u001b[0;32m      4\u001b[0m \u001b[1;33m\u001b[0m\u001b[0m\n\u001b[0;32m      5\u001b[0m \u001b[1;32mclass\u001b[0m \u001b[0mSimpleEditor\u001b[0m\u001b[1;33m(\u001b[0m\u001b[0mTk\u001b[0m\u001b[1;33m)\u001b[0m\u001b[1;33m:\u001b[0m\u001b[1;33m\u001b[0m\u001b[0m\n",
      "\u001b[1;31mImportError\u001b[0m: cannot import name 'scrolledtext'"
     ]
    }
   ],
   "source": [
    "from tkinter import *\n",
    "from tkinter import ttk\n",
    "from tkinter.scrolledtext import scrolledtext\n",
    "\n",
    "class SimpleEditor(Tk):\n",
    "    def __init__(self,*args,**kwargs):\n",
    "        super().__init__(*args,**kwargs)\n",
    "        self.setup_ui()\n",
    "        \n",
    "    def setup_ui(self):\n",
    "        self.title('Simple editor')\n",
    "        \n",
    "        self.contents=ScrolledText()\n",
    "        self.contents.pack(side=BOTTOM,expand=True,fill=BOTH)\n",
    "        \n",
    "        self.file_name=StringVar()\n",
    "        self.filename=ttk.Entry(textvariable=self.file_name)\n",
    "        self.filename.pack(side=LEFT,expand=True,fill=x)\n",
    "        self.file_name.set('romeo.text')\n",
    "        \n",
    "        ttk.Button(text='Load',command=self.load).pack(side=LEFT)\n",
    "        ttk.Button(text='save',command=self.save).pack(side=LEFT)\n",
    "        self.add_line_number=BooleanVar()\n",
    "        ttk.Checkbutton(text='Line number',variable=self.add_line_number).pack(side=LEFT)\n",
    "        self.add_line_number.trace('w',self.on_add_line_number)\n",
    "        \n",
    "        def load(self):\n",
    "            with open(self.file_name.get(),encoding='UTF-8') as file:\n",
    "                self.contents.delete('1.0',END)\n",
    "                if self.add_line_number.get():\n",
    "                    line_number=1\n",
    "                    for line in file:\n",
    "                        self.contents.insert(INSERT,'{}\\t'.format(line_number)+line)\n",
    "                        line_number+=1\n",
    "                else:\n",
    "                    self.contents.insert(INSERT,file.read())\n",
    "               \n",
    "        \n",
    "        def save(self):\n",
    "            with open(self.file_name.get(),'w',encoding='UTF-8') as file:\n",
    "                self.write(self.contentsget('1.0',END))\n",
    "                \n",
    "        def on_add_line_number(self,*args):\n",
    "            self.load()\n",
    "            \n",
    "        \n",
    "        simpleEditor().mainloop()\n",
    "        \n",
    "        "
   ]
  },
  {
   "cell_type": "code",
   "execution_count": null,
   "metadata": {},
   "outputs": [],
   "source": [
    " with open('romeo.text',encoding='UTF-8') as f:\n",
    "        for line in f.readlines():\n",
    "            print(line)"
   ]
  },
  {
   "cell_type": "code",
   "execution_count": 5,
   "metadata": {},
   "outputs": [],
   "source": [
    "import shelve\n",
    "\n",
    "s=shelve.open('my_shelve')\n",
    "s['entry1']=[1,2,3]\n",
    "s['entry2']='hello'"
   ]
  },
  {
   "cell_type": "code",
   "execution_count": 6,
   "metadata": {},
   "outputs": [
    {
     "name": "stdout",
     "output_type": "stream",
     "text": [
      "[1, 2, 3]\n"
     ]
    }
   ],
   "source": [
    "import shelve\n",
    "\n",
    "s=shelve.open('my_shelve')\n",
    "print(s['entry1'])"
   ]
  },
  {
   "cell_type": "code",
   "execution_count": 7,
   "metadata": {},
   "outputs": [
    {
     "data": {
      "text/plain": [
       "[1, 2, 3, 4]"
      ]
     },
     "execution_count": 7,
     "metadata": {},
     "output_type": "execute_result"
    }
   ],
   "source": [
    "test=s['entry1']\n",
    "test.append(4)\n",
    "s['entry1']=test\n",
    "s['entry1']"
   ]
  },
  {
   "cell_type": "code",
   "execution_count": 9,
   "metadata": {},
   "outputs": [
    {
     "data": {
      "text/plain": [
       "['dump',\n",
       " 'dumps',\n",
       " 'load',\n",
       " 'loads',\n",
       " 'JSONDecoder',\n",
       " 'JSONDecodeError',\n",
       " 'JSONEncoder']"
      ]
     },
     "execution_count": 9,
     "metadata": {},
     "output_type": "execute_result"
    }
   ],
   "source": [
    "import json\n",
    "json.__all__"
   ]
  },
  {
   "cell_type": "code",
   "execution_count": 10,
   "metadata": {},
   "outputs": [],
   "source": [
    "my_list=[1,2,3,4]\n",
    "with open('output.json','w') as f:\n",
    "    json.dump(my_list,f)"
   ]
  },
  {
   "cell_type": "code",
   "execution_count": 11,
   "metadata": {},
   "outputs": [],
   "source": [
    "import json\n",
    "with open('output.json','r') as f:\n",
    "    my_list=json.load(f)"
   ]
  },
  {
   "cell_type": "code",
   "execution_count": 12,
   "metadata": {},
   "outputs": [
    {
     "data": {
      "text/plain": [
       "[1, 2, 3, 4]"
      ]
     },
     "execution_count": 12,
     "metadata": {},
     "output_type": "execute_result"
    }
   ],
   "source": [
    "my_list"
   ]
  },
  {
   "cell_type": "code",
   "execution_count": null,
   "metadata": {},
   "outputs": [],
   "source": []
  }
 ],
 "metadata": {
  "kernelspec": {
   "display_name": "Python 3",
   "language": "python",
   "name": "python3"
  },
  "language_info": {
   "codemirror_mode": {
    "name": "ipython",
    "version": 3
   },
   "file_extension": ".py",
   "mimetype": "text/x-python",
   "name": "python",
   "nbconvert_exporter": "python",
   "pygments_lexer": "ipython3",
   "version": "3.6.5"
  }
 },
 "nbformat": 4,
 "nbformat_minor": 2
}
